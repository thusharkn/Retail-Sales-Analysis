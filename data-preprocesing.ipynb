{
 "cells": [
  {
   "cell_type": "code",
   "execution_count": 10,
   "metadata": {},
   "outputs": [
    {
     "name": "stdout",
     "output_type": "stream",
     "text": [
      "<class 'pandas.core.frame.DataFrame'>\n",
      "RangeIndex: 6421 entries, 0 to 6420\n",
      "Data columns (total 10 columns):\n",
      " #   Column                    Non-Null Count  Dtype  \n",
      "---  ------                    --------------  -----  \n",
      " 0   Date                      6421 non-null   object \n",
      " 1   F.Y                       6421 non-null   object \n",
      " 2   QUARTER                   6421 non-null   int64  \n",
      " 3   P_NO                      6420 non-null   object \n",
      " 4   PAYMENT TYPE              6421 non-null   object \n",
      " 5   TYPE OF PRODUCT           6421 non-null   object \n",
      " 6   Quantity                  6421 non-null   int64  \n",
      " 7   Price                     6421 non-null   float64\n",
      " 8   Amount                    6421 non-null   float64\n",
      " 9   TYPE OF ACCESSORY/MOBILE  6421 non-null   object \n",
      "dtypes: float64(2), int64(2), object(6)\n",
      "memory usage: 501.8+ KB\n",
      "None\n",
      "         Date        F.Y  QUARTER     P_NO PAYMENT TYPE TYPE OF PRODUCT  \\\n",
      "0  01-04-2018  2018-2019        1   P/A/36         CASH       ACCESSORY   \n",
      "1  01-04-2018  2018-2019        1   P/A/47         CASH       ACCESSORY   \n",
      "2  01-04-2018  2018-2019        1  P/M/A34       CREDIT          MOBILE   \n",
      "3  01-04-2018  2018-2019        1  P/M/A42       CREDIT          MOBILE   \n",
      "4  01-04-2018  2018-2019        1  P/M/A42        DEBIT          MOBILE   \n",
      "\n",
      "   Quantity    Price    Amount TYPE OF ACCESSORY/MOBILE  \n",
      "0         1  2042.38   2542.38                    COVER  \n",
      "1         1  2042.38   2118.64         WIRELESS HEADSET  \n",
      "2         1  2042.38  13303.58             BUDGET PHONE  \n",
      "3         1  2042.38  51696.43           FLAGSHIP PHONE  \n",
      "4         1  2042.38  51696.42           FLAGSHIP PHONE  \n",
      "(6421, 10)\n",
      "           QUARTER     Quantity          Price         Amount\n",
      "count  6421.000000  6421.000000    6421.000000    6421.000000\n",
      "mean      2.249338     1.058246   18295.175739   19255.968355\n",
      "std       1.000452     0.949686   19855.194755   20608.895584\n",
      "min       1.000000     1.000000     410.710000     915.260000\n",
      "25%       1.000000     1.000000    5026.780000    5892.860000\n",
      "50%       2.000000     1.000000   13776.780000   14284.820000\n",
      "75%       3.000000     1.000000   20919.640000   21419.640000\n",
      "max       4.000000    30.000000  104767.860000  230803.570000\n",
      "null: Date                        0\n",
      "F.Y                         0\n",
      "QUARTER                     0\n",
      "P_NO                        1\n",
      "PAYMENT TYPE                0\n",
      "TYPE OF PRODUCT             0\n",
      "Quantity                    0\n",
      "Price                       0\n",
      "Amount                      0\n",
      "TYPE OF ACCESSORY/MOBILE    0\n",
      "dtype: int64\n",
      "duplicates: 665\n"
     ]
    }
   ],
   "source": [
    "import pandas as pd\n",
    "df = pd.read_csv('smartphone-data.csv')\n",
    "print(df.info())\n",
    "print(df.head())\n",
    "print(df.shape)\n",
    "print(df.describe())\n",
    "print(\"null:\",df.isnull().sum())\n",
    "print(\"duplicates:\",df.duplicated().sum())"
   ]
  },
  {
   "cell_type": "code",
   "execution_count": 8,
   "metadata": {},
   "outputs": [
    {
     "name": "stdout",
     "output_type": "stream",
     "text": [
      "duplicates removed (5756, 10)\n"
     ]
    }
   ],
   "source": [
    "df = df.drop_duplicates()\n",
    "\n",
    "print(\"duplicates removed\", df.shape)"
   ]
  },
  {
   "cell_type": "code",
   "execution_count": 11,
   "metadata": {},
   "outputs": [
    {
     "name": "stdout",
     "output_type": "stream",
     "text": [
      "<class 'pandas.core.frame.DataFrame'>\n",
      "RangeIndex: 6421 entries, 0 to 6420\n",
      "Data columns (total 10 columns):\n",
      " #   Column                    Non-Null Count  Dtype  \n",
      "---  ------                    --------------  -----  \n",
      " 0   Date                      6421 non-null   object \n",
      " 1   F.Y                       6421 non-null   object \n",
      " 2   QUARTER                   6421 non-null   int64  \n",
      " 3   P_NO                      6420 non-null   object \n",
      " 4   PAYMENT TYPE              6421 non-null   object \n",
      " 5   TYPE OF PRODUCT           6421 non-null   object \n",
      " 6   Quantity                  6421 non-null   int64  \n",
      " 7   Price                     6421 non-null   float64\n",
      " 8   Amount                    6421 non-null   float64\n",
      " 9   TYPE OF ACCESSORY/MOBILE  6421 non-null   object \n",
      "dtypes: float64(2), int64(2), object(6)\n",
      "memory usage: 501.8+ KB\n",
      "None\n",
      "Date                        0\n",
      "F.Y                         0\n",
      "QUARTER                     0\n",
      "P_NO                        1\n",
      "PAYMENT TYPE                0\n",
      "TYPE OF PRODUCT             0\n",
      "Quantity                    0\n",
      "Price                       0\n",
      "Amount                      0\n",
      "TYPE OF ACCESSORY/MOBILE    0\n",
      "dtype: int64\n"
     ]
    }
   ],
   "source": [
    "# Final checks\n",
    "print(df.info())\n",
    "print(df.isnull().sum())  # Confirm no missing values"
   ]
  },
  {
   "cell_type": "code",
   "execution_count": null,
   "metadata": {},
   "outputs": [],
   "source": []
  }
 ],
 "metadata": {
  "kernelspec": {
   "display_name": "Python 3",
   "language": "python",
   "name": "python3"
  },
  "language_info": {
   "codemirror_mode": {
    "name": "ipython",
    "version": 3
   },
   "file_extension": ".py",
   "mimetype": "text/x-python",
   "name": "python",
   "nbconvert_exporter": "python",
   "pygments_lexer": "ipython3",
   "version": "3.10.12"
  }
 },
 "nbformat": 4,
 "nbformat_minor": 2
}
